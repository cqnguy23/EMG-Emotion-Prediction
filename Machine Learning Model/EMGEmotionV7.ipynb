{
 "cells": [
  {
   "cell_type": "markdown",
   "id": "alleged-doctrine",
   "metadata": {
    "id": "alleged-doctrine"
   },
   "source": [
    "# Import neccesary headers"
   ]
  },
  {
   "cell_type": "code",
   "execution_count": 6,
   "id": "split-traveler",
   "metadata": {
    "id": "split-traveler"
   },
   "outputs": [],
   "source": [
    "import tensorflow as tf\n",
    "import pathlib\n",
    "import math\n",
    "import os\n",
    "import numpy as np\n",
    "import matplotlib.pyplot as plt\n",
    "import csv\n",
    "import pandas as pd\n",
    "import time\n",
    "from tensorflow import keras\n",
    "from scipy import stats\n",
    "from tensorflow.keras.models import Sequential\n",
    "from tensorflow.keras.layers import LSTM\n",
    "from tensorflow.keras.layers import Dense, Conv1D, Flatten, Dropout, MaxPooling2D\n",
    "from tensorflow.keras.utils import to_categorical\n",
    "import tensorflow_hub as hub\n",
    "from mlxtend.plotting import plot_confusion_matrix\n",
    "from sklearn.metrics import confusion_matrix\n",
    "import random"
   ]
  },
  {
   "cell_type": "markdown",
   "id": "ru_xWyhG-7RC",
   "metadata": {
    "id": "ru_xWyhG-7RC"
   },
   "source": [
    "# Mount Google Drive"
   ]
  },
  {
   "cell_type": "code",
   "execution_count": 7,
   "id": "S-5paszJ6ImT",
   "metadata": {
    "id": "S-5paszJ6ImT"
   },
   "outputs": [],
   "source": [
    "# from google.colab import drive\n",
    "# drive.mount('/content/drive')"
   ]
  },
  {
   "cell_type": "markdown",
   "id": "C4DzeshxGNfA",
   "metadata": {
    "id": "C4DzeshxGNfA"
   },
   "source": [
    "# Function to Process Data"
   ]
  },
  {
   "cell_type": "code",
   "execution_count": 8,
   "id": "refined-cheat",
   "metadata": {
    "id": "refined-cheat"
   },
   "outputs": [],
   "source": [
    "def preprocess_data(dataset, window_size, overlap):\n",
    "    data = []\n",
    "    labels = []\n",
    "    for i in range(0, len(dataset) - window_size, overlap):\n",
    "        sensor_1 = dataset['Sensor 1'].values[i:i+window_size]\n",
    "        sensor_2 = dataset['Sensor 2'].values[i:i+window_size]\n",
    "        sensor_3 = dataset['Sensor 3'].values[i:i+window_size]\n",
    "        label = stats.mode(dataset['Emotion'][i:i+window_size])\n",
    "        label = label[0][0]\n",
    "        data.append([sensor_1, sensor_2, sensor_3, label])\n",
    "#         labels.append(label)\n",
    "    return data"
   ]
  },
  {
   "cell_type": "code",
   "execution_count": 9,
   "id": "municipal-courage",
   "metadata": {},
   "outputs": [],
   "source": [
    "def build_sub_dataset(dataset):\n",
    "    data_X = []\n",
    "    data_Y = []\n",
    "    for i in range(len(dataset)):\n",
    "        data_X.append(dataset[i][:3])\n",
    "        data_Y.append(dataset[i][3])\n",
    "    return data_X, data_Y"
   ]
  },
  {
   "cell_type": "code",
   "execution_count": 10,
   "id": "compact-heating",
   "metadata": {},
   "outputs": [],
   "source": [
    "def build_dataset(folder, window_size, overlap):\n",
    "    fileList = list(os.listdir(folder))\n",
    "    data_X = []\n",
    "    data_Y = []\n",
    "#     print(folder)\n",
    "    print(fileList)\n",
    "    for i,file in enumerate(fileList):\n",
    "#         print(fileList[i])\n",
    "        df = pd.read_csv(folder+'\\\\'+file, header=None, names=columns, skiprows=[0,1])\n",
    "        df.dropna()\n",
    "        df.query('Emotion != \"Nothing\"', inplace = True)\n",
    "#         print(df.count())\n",
    "        subdata = preprocess_data(df, window_size, overlap)\n",
    "        random.shuffle(subdata)\n",
    "        for i in range(len(subdata)):\n",
    "            data_X.append(subdata[i][:3])\n",
    "            data_Y.append(subdata[i][3])\n",
    "#         subdata_X, subdata_Y = build_sub_dataset(subdata)\n",
    "#         data_X = data_X + subdata_X\n",
    "#         data_Y = data_Y + subdata_Y\n",
    "    return data_X, data_Y"
   ]
  },
  {
   "cell_type": "markdown",
   "id": "lightweight-feeling",
   "metadata": {},
   "source": [
    "# Build the Train, Validation, and Test Datasets"
   ]
  },
  {
   "cell_type": "code",
   "execution_count": 11,
   "id": "handmade-focus",
   "metadata": {},
   "outputs": [
    {
     "name": "stdout",
     "output_type": "stream",
     "text": [
      "C:\\Users\\toanv\\EMG\\NEWEMG\\Newdata\\data041721\n",
      "['tra1n11 (1).csv', 'tra1n11 (10).csv', 'tra1n11 (11).csv', 'tra1n11 (12).csv', 'tra1n11 (13).csv', 'tra1n11 (2).csv', 'tra1n11 (3).csv', 'tra1n11 (4).csv', 'tra1n11 (5).csv', 'tra1n11 (6).csv', 'tra1n11 (7).csv', 'tra1n11 (8).csv', 'tra1n11 (9).csv', 'train12 (1).csv', 'train12 (10).csv', 'train12 (11).csv', 'train12 (12).csv', 'train12 (2).csv', 'train12 (3).csv', 'train12 (4).csv', 'train12 (5).csv', 'train12 (6).csv', 'train12 (7).csv', 'train12 (8).csv', 'train12 (9).csv', 'train13 (1).csv', 'train13 (10).csv', 'train13 (11).csv', 'train13 (12).csv', 'train13 (13).csv', 'train13 (2).csv', 'train13 (3).csv', 'train13 (4).csv', 'train13 (5).csv', 'train13 (6).csv', 'train13 (7).csv', 'train13 (8).csv', 'train13 (9).csv', 'train2 (1).csv', 'train2 (10).csv', 'train2 (11).csv', 'train2 (12).csv', 'train2 (2).csv', 'train2 (3).csv', 'train2 (4).csv', 'train2 (5).csv', 'train2 (6).csv', 'train2 (7).csv', 'train2 (8).csv', 'train2 (9).csv', 'train3 (1).csv', 'train3 (2).csv', 'train3 (3).csv']\n",
      "['val1 (1).csv', 'val1 (2).csv', 'val1 (3).csv', 'val1 (4).csv', 'val1 (5).csv', 'val1 (6).csv', 'val1 (7).csv', 'val2 (1).csv', 'val2 (2).csv', 'val2 (3).csv', 'val2 (4).csv', 'val3.csv']\n",
      "['test1 (1).csv', 'test1 (2).csv', 'test1 (3).csv', 'test1 (4).csv', 'test1 (5).csv', 'test1 (6).csv', 'test1 (7).csv', 'test2 (1).csv', 'test2 (2).csv', 'test2 (3).csv', 'test2 (4).csv', 'test2 (5).csv', 'test3.csv']\n"
     ]
    }
   ],
   "source": [
    "# c=os.listdir('C:\\\\Users\\\\toanv\\\\EMG\\\\NEWEMG\\\\Newdata\\\\data041721')\n",
    "\n",
    "RANDOM_SEED = 42\n",
    "\n",
    "columns = ['Emotion', 'Sensor 1', 'Sensor 2', 'Sensor 3']\n",
    "labels = ['Happy', 'Sad', 'Angry']\n",
    "# labels = ['No Emotion','Happy', 'Sad', 'Angry']\n",
    "\n",
    "window_size = 512 # Number of timesteps for each window\n",
    "num_features = 3 # Number of sensors\n",
    "overlap = 32 # Number of overlap timesteps between 2 consecutive windows\n",
    "num_outputs = 3 # Number of Outputs\n",
    "\n",
    "base = os.getcwd()\n",
    "print(base)\n",
    "# folders = ['\\\\test', '\\\\train', '\\\\validation']\n",
    "\n",
    "train_X, train_Y = build_dataset(base+'\\\\train', window_size, overlap)\n",
    "validation_X, validation_Y = build_dataset(base+'\\\\validation', window_size, overlap)\n",
    "test_X, test_Y = build_dataset(base+'\\\\test', window_size, overlap)"
   ]
  },
  {
   "cell_type": "markdown",
   "id": "fXj9wj2LGmBQ",
   "metadata": {
    "id": "fXj9wj2LGmBQ"
   },
   "source": [
    "# Let's Check the Shape of the Datasets"
   ]
  },
  {
   "cell_type": "code",
   "execution_count": 12,
   "id": "framed-process",
   "metadata": {
    "colab": {
     "base_uri": "https://localhost:8080/"
    },
    "id": "framed-process",
    "outputId": "66df4f9c-4e80-4b47-dcb6-06406dd1a371"
   },
   "outputs": [
    {
     "name": "stdout",
     "output_type": "stream",
     "text": [
      "train_dataset:  (57818, 3, 512)\n",
      "validation_dataset:  (12983, 3, 512)\n",
      "test_dataset:  (12989, 3, 512)\n"
     ]
    }
   ],
   "source": [
    "print('train_dataset: ', np.array(train_X).shape)\n",
    "print('validation_dataset: ', np.array(validation_X).shape)\n",
    "print('test_dataset: ', np.array(test_X).shape)"
   ]
  },
  {
   "cell_type": "markdown",
   "id": "eRdQAuRZGwNw",
   "metadata": {
    "id": "eRdQAuRZGwNw"
   },
   "source": [
    "# Reshape to Feed in the LSTM networks"
   ]
  },
  {
   "cell_type": "code",
   "execution_count": 13,
   "id": "knowing-andorra",
   "metadata": {
    "id": "knowing-andorra"
   },
   "outputs": [],
   "source": [
    "train_X = np.asarray(train_X,dtype=np.float32).reshape(-1, window_size, num_features)\n",
    "validation_X = np.asarray(validation_X,dtype=np.float32).reshape(-1, window_size, num_features)\n",
    "test_X = np.asarray(test_X,dtype=np.float32).reshape(-1, window_size, num_features)"
   ]
  },
  {
   "cell_type": "code",
   "execution_count": 14,
   "id": "4f4YWb4_Bo2Q",
   "metadata": {
    "colab": {
     "base_uri": "https://localhost:8080/"
    },
    "id": "4f4YWb4_Bo2Q",
    "outputId": "19c7fc0d-d060-4b3b-9c72-0150ebf09ecd"
   },
   "outputs": [
    {
     "name": "stdout",
     "output_type": "stream",
     "text": [
      "train_dataset:  (57818, 512, 3)\n",
      "validation_dataset:  (12983, 512, 3)\n",
      "test_dataset:  (12989, 512, 3)\n"
     ]
    }
   ],
   "source": [
    "print('train_dataset: ', np.array(train_X).shape)\n",
    "print('validation_dataset: ', np.array(validation_X).shape)\n",
    "print('test_dataset: ', np.array(test_X).shape)"
   ]
  },
  {
   "cell_type": "markdown",
   "id": "4zUAzQ2hG2iY",
   "metadata": {
    "id": "4zUAzQ2hG2iY"
   },
   "source": [
    "# One-hot Encoding Labels"
   ]
  },
  {
   "cell_type": "code",
   "execution_count": 15,
   "id": "interracial-spain",
   "metadata": {
    "id": "interracial-spain"
   },
   "outputs": [],
   "source": [
    "train_Y =  np.asarray(pd.get_dummies(train_Y), dtype=np.float32)\n",
    "validation_Y =  np.asarray(pd.get_dummies(validation_Y), dtype=np.float32)\n",
    "test_Y =  np.asarray(pd.get_dummies(test_Y), dtype=np.float32)\n"
   ]
  },
  {
   "cell_type": "code",
   "execution_count": 16,
   "id": "0Tck3D0CB17u",
   "metadata": {
    "colab": {
     "base_uri": "https://localhost:8080/"
    },
    "id": "0Tck3D0CB17u",
    "outputId": "01a7400b-884d-40b5-8ef5-edac9a6f444f"
   },
   "outputs": [
    {
     "name": "stdout",
     "output_type": "stream",
     "text": [
      "train_dataset:  (57818, 3)\n",
      "validation_dataset:  (12983, 3)\n",
      "test_dataset:  (12989, 3)\n"
     ]
    }
   ],
   "source": [
    "print('train_dataset: ', np.array(train_Y).shape)\n",
    "print('validation_dataset: ', np.array(validation_Y).shape)\n",
    "print('test_dataset: ', np.array(test_Y).shape)"
   ]
  },
  {
   "cell_type": "markdown",
   "id": "yIzZ8yGCG7cI",
   "metadata": {
    "id": "yIzZ8yGCG7cI"
   },
   "source": [
    "# Let's Double-Check the Shapes of the Datasets"
   ]
  },
  {
   "cell_type": "code",
   "execution_count": 17,
   "id": "super-danish",
   "metadata": {
    "colab": {
     "base_uri": "https://localhost:8080/"
    },
    "id": "super-danish",
    "outputId": "7c5f9d46-a4c2-4196-a8be-524533730966"
   },
   "outputs": [
    {
     "name": "stdout",
     "output_type": "stream",
     "text": [
      "(57818, 512, 3) (57818, 3)\n",
      "(12983, 512, 3) (12983, 3)\n",
      "(12989, 512, 3) (12989, 3)\n"
     ]
    }
   ],
   "source": [
    "print(train_X.shape, train_Y.shape)\n",
    "print(validation_X.shape, validation_Y.shape)\n",
    "print(test_X.shape, test_Y.shape)"
   ]
  },
  {
   "cell_type": "markdown",
   "id": "AllO9Rl9HZpo",
   "metadata": {
    "id": "AllO9Rl9HZpo"
   },
   "source": [
    "# Let's Build the LSTM Model With Some Pre-defined Parameters"
   ]
  },
  {
   "cell_type": "code",
   "execution_count": 18,
   "id": "increasing-river",
   "metadata": {
    "colab": {
     "base_uri": "https://localhost:8080/"
    },
    "id": "increasing-river",
    "outputId": "e37cba13-4876-4af2-ce93-a001ecd90149"
   },
   "outputs": [],
   "source": [
    "keras.backend.clear_session()\n",
    "tf.random.set_seed(42)\n",
    "np.random.seed(42)\n",
    "\n",
    "num_hidden_layers = 128\n",
    "dropout = 0.2\n",
    "epochs = 150\n",
    "batch_size = 128\n",
    "learning_rate = 1e-8\n",
    "\n",
    "model = Sequential()\n",
    "\n",
    "model.add(Conv1D(filters=32, kernel_size=window_size,activation=\"relu\",\n",
    "                 input_shape=(window_size,num_features)))\n",
    "model.add(Dropout(dropout))\n",
    "\n",
    "model.add(LSTM(num_hidden_layers, kernel_regularizer=keras.regularizers.l2(0.01),\n",
    "               recurrent_regularizer=keras.regularizers.l2(0.01)))\n",
    "model.add(Dropout(dropout))\n",
    "\n",
    "model.add(Dense(num_hidden_layers, activation='relu',\n",
    "                kernel_regularizer=keras.regularizers.l2(0.01)))\n",
    "model.add(Dropout(dropout))\n",
    "\n",
    "model.add(Dense(num_outputs, activation='softmax', \n",
    "                kernel_regularizer=keras.regularizers.l2(0.01)))\n",
    "\n",
    "lr_schedule = keras.callbacks.LearningRateScheduler(\n",
    "    lambda epoch: learning_rate * 10**(epoch / 20))\n",
    "optimizer = keras.optimizers.Adam(lr=learning_rate)\n",
    "#model.compile(loss='mae', optimizer='adam', metrics=['accuracy'])\n",
    "# print(model.summary())\n",
    "model.compile(loss='categorical_crossentropy', optimizer=optimizer, metrics=['accuracy'])"
   ]
  },
  {
   "cell_type": "markdown",
   "id": "hhIImjL7y_aE",
   "metadata": {
    "id": "hhIImjL7y_aE"
   },
   "source": [
    "# Setup a Learning Scheduler to Find a Good Learning Rate"
   ]
  },
  {
   "cell_type": "code",
   "execution_count": 19,
   "id": "gVxxHM6X-HDB",
   "metadata": {
    "colab": {
     "base_uri": "https://localhost:8080/"
    },
    "id": "gVxxHM6X-HDB",
    "outputId": "aa0d39bb-1285-419d-adbd-a1975477f327"
   },
   "outputs": [
    {
     "name": "stdout",
     "output_type": "stream",
     "text": [
      "Train on 57818 samples\n",
      "Epoch 1/150\n",
      "57818/57818 [==============================] - 9s 160us/sample - loss: 4.3130 - accuracy: 0.3363\n",
      "Epoch 2/150\n",
      "57818/57818 [==============================] - 2s 33us/sample - loss: 4.3125 - accuracy: 0.3367\n",
      "Epoch 3/150\n",
      "57818/57818 [==============================] - 2s 33us/sample - loss: 4.3116 - accuracy: 0.3433\n",
      "Epoch 4/150\n",
      "57818/57818 [==============================] - 2s 33us/sample - loss: 4.3108 - accuracy: 0.3476\n",
      "Epoch 5/150\n",
      "57818/57818 [==============================] - 2s 33us/sample - loss: 4.3098 - accuracy: 0.3510\n",
      "Epoch 6/150\n",
      "57818/57818 [==============================] - 2s 33us/sample - loss: 4.3088 - accuracy: 0.3558\n",
      "Epoch 7/150\n",
      "57818/57818 [==============================] - 2s 33us/sample - loss: 4.3077 - accuracy: 0.3594\n",
      "Epoch 8/150\n",
      "57818/57818 [==============================] - 2s 35us/sample - loss: 4.3061 - accuracy: 0.3702\n",
      "Epoch 9/150\n",
      "57818/57818 [==============================] - 2s 34us/sample - loss: 4.3047 - accuracy: 0.3768\n",
      "Epoch 10/150\n",
      "57818/57818 [==============================] - 2s 33us/sample - loss: 4.3029 - accuracy: 0.3839\n",
      "Epoch 11/150\n",
      "57818/57818 [==============================] - 2s 34us/sample - loss: 4.3010 - accuracy: 0.3940s - loss: 4\n",
      "Epoch 12/150\n",
      "57818/57818 [==============================] - 2s 34us/sample - loss: 4.2990 - accuracy: 0.4023\n",
      "Epoch 13/150\n",
      "57818/57818 [==============================] - 2s 35us/sample - loss: 4.2964 - accuracy: 0.4158\n",
      "Epoch 14/150\n",
      "57818/57818 [==============================] - 2s 35us/sample - loss: 4.2938 - accuracy: 0.4258\n",
      "Epoch 15/150\n",
      "57818/57818 [==============================] - 2s 34us/sample - loss: 4.2907 - accuracy: 0.4348\n",
      "Epoch 16/150\n",
      "57818/57818 [==============================] - 2s 33us/sample - loss: 4.2872 - accuracy: 0.4506\n",
      "Epoch 17/150\n",
      "57818/57818 [==============================] - 2s 33us/sample - loss: 4.2832 - accuracy: 0.4666\n",
      "Epoch 18/150\n",
      "57818/57818 [==============================] - 2s 33us/sample - loss: 4.2789 - accuracy: 0.4808\n",
      "Epoch 19/150\n",
      "57818/57818 [==============================] - 2s 33us/sample - loss: 4.2737 - accuracy: 0.4977\n",
      "Epoch 20/150\n",
      "57818/57818 [==============================] - 2s 33us/sample - loss: 4.2681 - accuracy: 0.5144\n",
      "Epoch 21/150\n",
      "57818/57818 [==============================] - 2s 33us/sample - loss: 4.2617 - accuracy: 0.5293\n",
      "Epoch 22/150\n",
      "57818/57818 [==============================] - 2s 34us/sample - loss: 4.2544 - accuracy: 0.5453\n",
      "Epoch 23/150\n",
      "57818/57818 [==============================] - 2s 34us/sample - loss: 4.2461 - accuracy: 0.5652\n",
      "Epoch 24/150\n",
      "57818/57818 [==============================] - 2s 33us/sample - loss: 4.2370 - accuracy: 0.5790\n",
      "Epoch 25/150\n",
      "57818/57818 [==============================] - 2s 33us/sample - loss: 4.2266 - accuracy: 0.5924\n",
      "Epoch 26/150\n",
      "57818/57818 [==============================] - 2s 34us/sample - loss: 4.2152 - accuracy: 0.6039\n",
      "Epoch 27/150\n",
      "57818/57818 [==============================] - 2s 33us/sample - loss: 4.2024 - accuracy: 0.6195\n",
      "Epoch 28/150\n",
      "57818/57818 [==============================] - 2s 33us/sample - loss: 4.1882 - accuracy: 0.6259\n",
      "Epoch 29/150\n",
      "57818/57818 [==============================] - 2s 33us/sample - loss: 4.1726 - accuracy: 0.6367\n",
      "Epoch 30/150\n",
      "57818/57818 [==============================] - 2s 33us/sample - loss: 4.1547 - accuracy: 0.6455\n",
      "Epoch 31/150\n",
      "57818/57818 [==============================] - 2s 33us/sample - loss: 4.1355 - accuracy: 0.6488\n",
      "Epoch 32/150\n",
      "57818/57818 [==============================] - 2s 33us/sample - loss: 4.1133 - accuracy: 0.6597\n",
      "Epoch 33/150\n",
      "57818/57818 [==============================] - 2s 34us/sample - loss: 4.0881 - accuracy: 0.6680\n",
      "Epoch 34/150\n",
      "57818/57818 [==============================] - 2s 34us/sample - loss: 4.0601 - accuracy: 0.6775\n",
      "Epoch 35/150\n",
      "57818/57818 [==============================] - 2s 33us/sample - loss: 4.0297 - accuracy: 0.6834\n",
      "Epoch 36/150\n",
      "57818/57818 [==============================] - 2s 33us/sample - loss: 3.9947 - accuracy: 0.6940\n",
      "Epoch 37/150\n",
      "57818/57818 [==============================] - 2s 33us/sample - loss: 3.9567 - accuracy: 0.6992\n",
      "Epoch 38/150\n",
      "57818/57818 [==============================] - 2s 33us/sample - loss: 3.9132 - accuracy: 0.7152\n",
      "Epoch 39/150\n",
      "57818/57818 [==============================] - 2s 33us/sample - loss: 3.8671 - accuracy: 0.7208\n",
      "Epoch 40/150\n",
      "57818/57818 [==============================] - 2s 33us/sample - loss: 3.8177 - accuracy: 0.7271\n",
      "Epoch 41/150\n",
      "57818/57818 [==============================] - 2s 33us/sample - loss: 3.7635 - accuracy: 0.7374\n",
      "Epoch 42/150\n",
      "57818/57818 [==============================] - 2s 34us/sample - loss: 3.7044 - accuracy: 0.7459\n",
      "Epoch 43/150\n",
      "57818/57818 [==============================] - 2s 34us/sample - loss: 3.6423 - accuracy: 0.7531\n",
      "Epoch 44/150\n",
      "57818/57818 [==============================] - 2s 33us/sample - loss: 3.5746 - accuracy: 0.7646\n",
      "Epoch 45/150\n",
      "57818/57818 [==============================] - 2s 33us/sample - loss: 3.5020 - accuracy: 0.7754\n",
      "Epoch 46/150\n",
      "57818/57818 [==============================] - 2s 33us/sample - loss: 3.4273 - accuracy: 0.7834\n",
      "Epoch 47/150\n",
      "57818/57818 [==============================] - 2s 33us/sample - loss: 3.3447 - accuracy: 0.7925\n",
      "Epoch 48/150\n",
      "57818/57818 [==============================] - 2s 33us/sample - loss: 3.2572 - accuracy: 0.8009\n",
      "Epoch 49/150\n",
      "57818/57818 [==============================] - 2s 33us/sample - loss: 3.1600 - accuracy: 0.8102\n",
      "Epoch 50/150\n",
      "57818/57818 [==============================] - 2s 33us/sample - loss: 3.0596 - accuracy: 0.8157\n",
      "Epoch 51/150\n",
      "57818/57818 [==============================] - 2s 33us/sample - loss: 2.9518 - accuracy: 0.8208\n",
      "Epoch 52/150\n",
      "57818/57818 [==============================] - 2s 33us/sample - loss: 2.8424 - accuracy: 0.8256\n",
      "Epoch 53/150\n",
      "57818/57818 [==============================] - 2s 33us/sample - loss: 2.7278 - accuracy: 0.8299\n",
      "Epoch 54/150\n",
      "57818/57818 [==============================] - 2s 34us/sample - loss: 2.6111 - accuracy: 0.8314\n",
      "Epoch 55/150\n",
      "57818/57818 [==============================] - 2s 33us/sample - loss: 2.4900 - accuracy: 0.8348\n",
      "Epoch 56/150\n",
      "57818/57818 [==============================] - 2s 33us/sample - loss: 2.3638 - accuracy: 0.8378\n",
      "Epoch 57/150\n",
      "57818/57818 [==============================] - 2s 34us/sample - loss: 2.2346 - accuracy: 0.8403\n",
      "Epoch 58/150\n",
      "57818/57818 [==============================] - 2s 34us/sample - loss: 2.1006 - accuracy: 0.8426\n",
      "Epoch 59/150\n",
      "57818/57818 [==============================] - 2s 33us/sample - loss: 1.9622 - accuracy: 0.8483\n",
      "Epoch 60/150\n",
      "57818/57818 [==============================] - 2s 33us/sample - loss: 1.8224 - accuracy: 0.8499\n",
      "Epoch 61/150\n",
      "57818/57818 [==============================] - 2s 33us/sample - loss: 1.6799 - accuracy: 0.8516\n",
      "Epoch 62/150\n",
      "57818/57818 [==============================] - 2s 33us/sample - loss: 1.5404 - accuracy: 0.8543\n",
      "Epoch 63/150\n",
      "57818/57818 [==============================] - 2s 33us/sample - loss: 1.4003 - accuracy: 0.8581\n",
      "Epoch 64/150\n",
      "57818/57818 [==============================] - 2s 33us/sample - loss: 1.2680 - accuracy: 0.8605\n",
      "Epoch 65/150\n",
      "57818/57818 [==============================] - 2s 34us/sample - loss: 1.1365 - accuracy: 0.8638\n",
      "Epoch 66/150\n",
      "57818/57818 [==============================] - 2s 34us/sample - loss: 1.0155 - accuracy: 0.8686\n",
      "Epoch 67/150\n",
      "57818/57818 [==============================] - 2s 34us/sample - loss: 0.9066 - accuracy: 0.8705\n",
      "Epoch 68/150\n",
      "57818/57818 [==============================] - 2s 34us/sample - loss: 0.8126 - accuracy: 0.8717\n",
      "Epoch 69/150\n",
      "57818/57818 [==============================] - 2s 34us/sample - loss: 0.7266 - accuracy: 0.8738\n",
      "Epoch 70/150\n",
      "57818/57818 [==============================] - 2s 36us/sample - loss: 0.6561 - accuracy: 0.8751\n",
      "Epoch 71/150\n",
      "57818/57818 [==============================] - 2s 34us/sample - loss: 0.5990 - accuracy: 0.8773\n",
      "Epoch 72/150\n",
      "57818/57818 [==============================] - 2s 33us/sample - loss: 0.5521 - accuracy: 0.8793\n",
      "Epoch 73/150\n",
      "57818/57818 [==============================] - 2s 34us/sample - loss: 0.5170 - accuracy: 0.8811\n",
      "Epoch 74/150\n",
      "57818/57818 [==============================] - 2s 34us/sample - loss: 0.4904 - accuracy: 0.8814\n",
      "Epoch 75/150\n",
      "57818/57818 [==============================] - 2s 34us/sample - loss: 0.4693 - accuracy: 0.8825\n",
      "Epoch 76/150\n",
      "57818/57818 [==============================] - 2s 35us/sample - loss: 0.4538 - accuracy: 0.8835\n",
      "Epoch 77/150\n",
      "57818/57818 [==============================] - 2s 35us/sample - loss: 0.4424 - accuracy: 0.8849\n",
      "Epoch 78/150\n",
      "57818/57818 [==============================] - 2s 35us/sample - loss: 0.4320 - accuracy: 0.8850\n",
      "Epoch 79/150\n",
      "57818/57818 [==============================] - 2s 35us/sample - loss: 0.4242 - accuracy: 0.8863\n",
      "Epoch 80/150\n",
      "57818/57818 [==============================] - 2s 34us/sample - loss: 0.4187 - accuracy: 0.8870\n",
      "Epoch 81/150\n",
      "57818/57818 [==============================] - 2s 34us/sample - loss: 0.4112 - accuracy: 0.8884\n",
      "Epoch 82/150\n",
      "57818/57818 [==============================] - 2s 33us/sample - loss: 0.4043 - accuracy: 0.8894\n",
      "Epoch 83/150\n",
      "57818/57818 [==============================] - 2s 33us/sample - loss: 0.3982 - accuracy: 0.8899\n",
      "Epoch 84/150\n",
      "57818/57818 [==============================] - 2s 33us/sample - loss: 0.3944 - accuracy: 0.8899\n",
      "Epoch 85/150\n",
      "57818/57818 [==============================] - 2s 33us/sample - loss: 0.3904 - accuracy: 0.8910\n",
      "Epoch 86/150\n",
      "57818/57818 [==============================] - 2s 33us/sample - loss: 0.3854 - accuracy: 0.8930\n",
      "Epoch 87/150\n",
      "57818/57818 [==============================] - 2s 33us/sample - loss: 0.3810 - accuracy: 0.8930\n",
      "Epoch 88/150\n",
      "57818/57818 [==============================] - 2s 33us/sample - loss: 0.3788 - accuracy: 0.8930\n",
      "Epoch 89/150\n",
      "57818/57818 [==============================] - 2s 33us/sample - loss: 0.3755 - accuracy: 0.8939\n",
      "Epoch 90/150\n",
      "57818/57818 [==============================] - 2s 33us/sample - loss: 0.3708 - accuracy: 0.8957\n",
      "Epoch 91/150\n",
      "57818/57818 [==============================] - 2s 33us/sample - loss: 0.3703 - accuracy: 0.8948\n",
      "Epoch 92/150\n",
      "57818/57818 [==============================] - 2s 32us/sample - loss: 0.3697 - accuracy: 0.8957\n",
      "Epoch 93/150\n",
      "57818/57818 [==============================] - 2s 33us/sample - loss: 0.3667 - accuracy: 0.8967\n",
      "Epoch 94/150\n",
      "57818/57818 [==============================] - 2s 33us/sample - loss: 0.3656 - accuracy: 0.8959\n",
      "Epoch 95/150\n",
      "57818/57818 [==============================] - 2s 33us/sample - loss: 0.3632 - accuracy: 0.8975\n",
      "Epoch 96/150\n",
      "57818/57818 [==============================] - 2s 33us/sample - loss: 0.3621 - accuracy: 0.8966\n",
      "Epoch 97/150\n",
      "57818/57818 [==============================] - 2s 33us/sample - loss: 0.3632 - accuracy: 0.8962\n",
      "Epoch 98/150\n",
      "57818/57818 [==============================] - 2s 33us/sample - loss: 0.3596 - accuracy: 0.8980\n",
      "Epoch 99/150\n",
      "57818/57818 [==============================] - 2s 33us/sample - loss: 0.3614 - accuracy: 0.8966\n",
      "Epoch 100/150\n",
      "57818/57818 [==============================] - 2s 33us/sample - loss: 0.3611 - accuracy: 0.8967\n",
      "Epoch 101/150\n",
      "57818/57818 [==============================] - 2s 33us/sample - loss: 0.3597 - accuracy: 0.8964\n",
      "Epoch 102/150\n",
      "57818/57818 [==============================] - 2s 33us/sample - loss: 0.3614 - accuracy: 0.8959\n",
      "Epoch 103/150\n",
      "57818/57818 [==============================] - 2s 33us/sample - loss: 0.3569 - accuracy: 0.8980\n",
      "Epoch 104/150\n",
      "57818/57818 [==============================] - 2s 33us/sample - loss: 0.3577 - accuracy: 0.8971\n",
      "Epoch 105/150\n",
      "57818/57818 [==============================] - 2s 33us/sample - loss: 0.3599 - accuracy: 0.8974\n",
      "Epoch 106/150\n",
      "57818/57818 [==============================] - 2s 33us/sample - loss: 0.3619 - accuracy: 0.8972\n",
      "Epoch 107/150\n",
      "57818/57818 [==============================] - 2s 33us/sample - loss: 0.3623 - accuracy: 0.8962\n",
      "Epoch 108/150\n",
      "57818/57818 [==============================] - 2s 34us/sample - loss: 0.3668 - accuracy: 0.8966\n",
      "Epoch 109/150\n",
      "57818/57818 [==============================] - 2s 33us/sample - loss: 0.3675 - accuracy: 0.8969\n",
      "Epoch 110/150\n",
      "57818/57818 [==============================] - 2s 33us/sample - loss: 0.3700 - accuracy: 0.8971\n",
      "Epoch 111/150\n",
      "57818/57818 [==============================] - 2s 33us/sample - loss: 0.3758 - accuracy: 0.8952\n",
      "Epoch 112/150\n",
      "57818/57818 [==============================] - 2s 33us/sample - loss: 0.3847 - accuracy: 0.8933\n",
      "Epoch 113/150\n",
      "57818/57818 [==============================] - 2s 33us/sample - loss: 0.3914 - accuracy: 0.8908\n",
      "Epoch 114/150\n",
      "57818/57818 [==============================] - 2s 34us/sample - loss: 0.4032 - accuracy: 0.8906\n",
      "Epoch 115/150\n",
      "57818/57818 [==============================] - 2s 34us/sample - loss: 0.4133 - accuracy: 0.8860s - loss: 0.415\n",
      "Epoch 116/150\n",
      "57818/57818 [==============================] - 2s 34us/sample - loss: 0.4120 - accuracy: 0.8889\n",
      "Epoch 117/150\n",
      "57818/57818 [==============================] - 2s 33us/sample - loss: 0.4263 - accuracy: 0.8879\n",
      "Epoch 118/150\n",
      "57818/57818 [==============================] - 2s 33us/sample - loss: 0.4396 - accuracy: 0.8813\n",
      "Epoch 119/150\n",
      "57818/57818 [==============================] - 2s 33us/sample - loss: 0.4575 - accuracy: 0.8790\n",
      "Epoch 120/150\n",
      "57818/57818 [==============================] - 2s 33us/sample - loss: 0.4636 - accuracy: 0.8785\n",
      "Epoch 121/150\n",
      "57818/57818 [==============================] - 2s 33us/sample - loss: 0.4865 - accuracy: 0.8791\n",
      "Epoch 122/150\n",
      "57818/57818 [==============================] - 2s 33us/sample - loss: 0.5112 - accuracy: 0.8749\n",
      "Epoch 123/150\n",
      "57818/57818 [==============================] - 2s 33us/sample - loss: 0.5342 - accuracy: 0.8757\n",
      "Epoch 124/150\n",
      "57818/57818 [==============================] - 2s 33us/sample - loss: 0.5952 - accuracy: 0.8714\n",
      "Epoch 125/150\n",
      "57818/57818 [==============================] - 2s 33us/sample - loss: 0.6157 - accuracy: 0.8683\n",
      "Epoch 126/150\n",
      "57818/57818 [==============================] - 2s 33us/sample - loss: 0.6748 - accuracy: 0.8681\n",
      "Epoch 127/150\n",
      "57818/57818 [==============================] - 2s 33us/sample - loss: 0.6914 - accuracy: 0.8686\n",
      "Epoch 128/150\n",
      "57818/57818 [==============================] - 2s 33us/sample - loss: 0.7041 - accuracy: 0.8637\n",
      "Epoch 129/150\n",
      "57818/57818 [==============================] - 2s 33us/sample - loss: 0.8425 - accuracy: 0.8468\n",
      "Epoch 130/150\n",
      "57818/57818 [==============================] - 2s 33us/sample - loss: 0.8776 - accuracy: 0.8660\n",
      "Epoch 131/150\n",
      "57818/57818 [==============================] - 2s 33us/sample - loss: 0.8877 - accuracy: 0.8577\n",
      "Epoch 132/150\n",
      "57818/57818 [==============================] - 2s 33us/sample - loss: 0.9449 - accuracy: 0.8493\n",
      "Epoch 133/150\n",
      "57818/57818 [==============================] - 2s 33us/sample - loss: 1.0781 - accuracy: 0.8510\n",
      "Epoch 134/150\n",
      "57818/57818 [==============================] - 2s 34us/sample - loss: 1.2170 - accuracy: 0.8502\n",
      "Epoch 135/150\n",
      "57818/57818 [==============================] - 2s 35us/sample - loss: 1.2078 - accuracy: 0.8555\n",
      "Epoch 136/150\n",
      "57818/57818 [==============================] - 2s 35us/sample - loss: 1.6182 - accuracy: 0.8406s - loss: 1.6401 - accuracy\n",
      "Epoch 137/150\n",
      "57818/57818 [==============================] - 2s 37us/sample - loss: 1.5939 - accuracy: 0.8197\n",
      "Epoch 138/150\n",
      "57818/57818 [==============================] - 2s 34us/sample - loss: 1.5881 - accuracy: 0.8356\n",
      "Epoch 139/150\n",
      "57818/57818 [==============================] - 2s 34us/sample - loss: 2.5183 - accuracy: 0.7834\n",
      "Epoch 140/150\n",
      "57818/57818 [==============================] - 2s 33us/sample - loss: 2.0694 - accuracy: 0.8282\n",
      "Epoch 141/150\n",
      "57818/57818 [==============================] - 2s 33us/sample - loss: 3.6049 - accuracy: 0.6977\n",
      "Epoch 142/150\n",
      "57818/57818 [==============================] - 2s 33us/sample - loss: 4.5955 - accuracy: 0.5639\n",
      "Epoch 143/150\n",
      "57818/57818 [==============================] - 2s 34us/sample - loss: 3.3303 - accuracy: 0.5947\n",
      "Epoch 144/150\n",
      "57818/57818 [==============================] - 2s 34us/sample - loss: 3.8326 - accuracy: 0.7358\n",
      "Epoch 145/150\n",
      "57818/57818 [==============================] - 2s 33us/sample - loss: 4.6790 - accuracy: 0.7595\n",
      "Epoch 146/150\n",
      "57818/57818 [==============================] - 2s 33us/sample - loss: 5.8066 - accuracy: 0.7518\n",
      "Epoch 147/150\n",
      "57818/57818 [==============================] - 2s 34us/sample - loss: 4.5314 - accuracy: 0.7554\n",
      "Epoch 148/150\n",
      "57818/57818 [==============================] - 2s 34us/sample - loss: 6.1581 - accuracy: 0.7126\n",
      "Epoch 149/150\n",
      "57818/57818 [==============================] - 2s 34us/sample - loss: 9.6362 - accuracy: 0.4824\n",
      "Epoch 150/150\n",
      "57818/57818 [==============================] - 2s 34us/sample - loss: 2.2797 - accuracy: 0.3550\n"
     ]
    }
   ],
   "source": [
    "history=model.fit(train_X, train_Y, epochs=epochs, callbacks=[lr_schedule],\n",
    "                  batch_size=batch_size, shuffle=True)"
   ]
  },
  {
   "cell_type": "code",
   "execution_count": 20,
   "id": "ZCdB0rqellGP",
   "metadata": {
    "colab": {
     "base_uri": "https://localhost:8080/",
     "height": 290
    },
    "id": "ZCdB0rqellGP",
    "outputId": "44c39770-784f-4377-cc3b-ecca8272e170"
   },
   "outputs": [
    {
     "data": {
      "text/plain": [
       "(1e-08, 100.0, 0.0, 1.0)"
      ]
     },
     "execution_count": 20,
     "metadata": {},
     "output_type": "execute_result"
    },
    {
     "data": {
      "image/png": "[encoded data removed]",
      "text/plain": [
       "<Figure size 432x288 with 1 Axes>"
      ]
     },
     "metadata": {
      "needs_background": "light"
     },
     "output_type": "display_data"
    }
   ],
   "source": [
    "plt.semilogx(history.history[\"lr\"], history.history[\"loss\"])\n",
    "plt.axis([1e-8, 1e2, 0, 1])"
   ]
  },
  {
   "cell_type": "code",
   "execution_count": 21,
   "id": "pibJ-uwkti0m",
   "metadata": {
    "colab": {
     "base_uri": "https://localhost:8080/",
     "height": 290
    },
    "id": "pibJ-uwkti0m",
    "outputId": "c5342a83-7bfa-4641-df42-2d58b08e9750"
   },
   "outputs": [
    {
     "data": {
      "text/plain": [
       "(1e-08, 100.0, 0.0, 1.0)"
      ]
     },
     "execution_count": 21,
     "metadata": {},
     "output_type": "execute_result"
    },
    {
     "data": {
      "image/png": "[encoded data removed]",
      "text/plain": [
       "<Figure size 432x288 with 1 Axes>"
      ]
     },
     "metadata": {
      "needs_background": "light"
     },
     "output_type": "display_data"
    }
   ],
   "source": [
    "plt.semilogx(history.history[\"lr\"], history.history[\"accuracy\"])\n",
    "plt.axis([1e-8, 1e2, 0, 1])"
   ]
  },
  {
   "cell_type": "markdown",
   "id": "oetzQeybtlCo",
   "metadata": {
    "id": "oetzQeybtlCo"
   },
   "source": [
    "# Build the Model: Conv1D+LSTM"
   ]
  },
  {
   "cell_type": "code",
   "execution_count": 22,
   "id": "GplRzjnQtGSx",
   "metadata": {
    "id": "GplRzjnQtGSx"
   },
   "outputs": [
    {
     "name": "stdout",
     "output_type": "stream",
     "text": [
      "Model: \"sequential\"\n",
      "_________________________________________________________________\n",
      "Layer (type)                 Output Shape              Param #   \n",
      "=================================================================\n",
      "conv1d (Conv1D)              (None, 1, 32)             49184     \n",
      "_________________________________________________________________\n",
      "dropout (Dropout)            (None, 1, 32)             0         \n",
      "_________________________________________________________________\n",
      "lstm (LSTM)                  (None, 128)               82432     \n",
      "_________________________________________________________________\n",
      "dropout_1 (Dropout)          (None, 128)               0         \n",
      "_________________________________________________________________\n",
      "dense (Dense)                (None, 128)               16512     \n",
      "_________________________________________________________________\n",
      "dropout_2 (Dropout)          (None, 128)               0         \n",
      "_________________________________________________________________\n",
      "dense_1 (Dense)              (None, 3)                 387       \n",
      "=================================================================\n",
      "Total params: 148,515\n",
      "Trainable params: 148,515\n",
      "Non-trainable params: 0\n",
      "_________________________________________________________________\n"
     ]
    }
   ],
   "source": [
    "keras.backend.clear_session()\n",
    "tf.random.set_seed(42)\n",
    "np.random.seed(42)\n",
    "\n",
    "num_hidden_layers = 128\n",
    "dropout = 0.3\n",
    "batch_size = 64\n",
    "train_epochs = 500\n",
    "\n",
    "# Best learning_rate so far is:\n",
    "    # 1e-3: 70% accuracy\n",
    "    # 2.5e-3: 80% accuracy\n",
    "\n",
    "# learning_rate = 0.00025\n",
    "learning_rate = 1e-4\n",
    "L2_Reg = 0.0015\n",
    "\n",
    "model = Sequential()\n",
    "\n",
    "model.add(Conv1D(filters=32, kernel_size=window_size,activation=\"relu\",\n",
    "                 input_shape=(window_size,num_features)))\n",
    "model.add(Dropout(dropout))\n",
    "\n",
    "model.add(LSTM(num_hidden_layers, kernel_regularizer=keras.regularizers.l2(L2_Reg),\n",
    "               recurrent_regularizer=keras.regularizers.l2(L2_Reg)))\n",
    "model.add(Dropout(dropout))\n",
    "\n",
    "model.add(Dense(num_hidden_layers, activation='relu',\n",
    "                kernel_regularizer=keras.regularizers.l2(L2_Reg)))\n",
    "model.add(Dropout(dropout))\n",
    "\n",
    "model.add(Dense(num_outputs, activation='softmax', \n",
    "                kernel_regularizer=keras.regularizers.l2(L2_Reg)))\n",
    "\n",
    "optimizer = keras.optimizers.Adam(lr=learning_rate)\n",
    "early_stopping = keras.callbacks.EarlyStopping(patience=10)\n",
    "# filepath = \"ModelWeights-{epoch:.2f}-{val_accuracy:.2f}.hdf5\"\n",
    "# checkpoint = keras.callbacks.ModelCheckpoint(filepath, save_best_only=True, monitor=\"val_accuracy\")\n",
    "model.summary()"
   ]
  },
  {
   "cell_type": "markdown",
   "id": "E4S6Tc5UzX-C",
   "metadata": {
    "id": "E4S6Tc5UzX-C"
   },
   "source": [
    "# Train the Model With the Chosen Learning Rate"
   ]
  },
  {
   "cell_type": "code",
   "execution_count": 23,
   "id": "MxcI7WxalqGO",
   "metadata": {
    "colab": {
     "base_uri": "https://localhost:8080/"
    },
    "id": "MxcI7WxalqGO",
    "outputId": "58a2c7cc-558f-41df-d4f9-80f6ae431200"
   },
   "outputs": [
    {
     "name": "stdout",
     "output_type": "stream",
     "text": [
      "Train on 57818 samples, validate on 12983 samples\n",
      "Epoch 1/500\n",
      "57818/57818 [==============================] - 7s 115us/sample - loss: 0.7880 - accuracy: 0.8256 - val_loss: 0.6131 - val_accuracy: 0.8614\n",
      "Epoch 2/500\n",
      "57818/57818 [==============================] - 4s 77us/sample - loss: 0.5363 - accuracy: 0.8724 - val_loss: 0.5405 - val_accuracy: 0.8688\n",
      "Epoch 3/500\n",
      "57818/57818 [==============================] - 4s 73us/sample - loss: 0.4737 - accuracy: 0.8808 - val_loss: 0.4957 - val_accuracy: 0.8683\n",
      "Epoch 4/500\n",
      "57818/57818 [==============================] - 4s 77us/sample - loss: 0.4361 - accuracy: 0.8851 - val_loss: 0.4674 - val_accuracy: 0.8711\n",
      "Epoch 5/500\n",
      "57818/57818 [==============================] - 4s 77us/sample - loss: 0.4115 - accuracy: 0.8870 - val_loss: 0.4479 - val_accuracy: 0.8733\n",
      "Epoch 6/500\n",
      "57818/57818 [==============================] - 5s 78us/sample - loss: 0.3932 - accuracy: 0.8905 - val_loss: 0.4403 - val_accuracy: 0.8718\n",
      "Epoch 7/500\n",
      "57818/57818 [==============================] - 4s 75us/sample - loss: 0.3819 - accuracy: 0.8921 - val_loss: 0.4299 - val_accuracy: 0.8717\n",
      "Epoch 8/500\n",
      "57818/57818 [==============================] - 4s 74us/sample - loss: 0.3719 - accuracy: 0.8932 - val_loss: 0.4181 - val_accuracy: 0.8723\n",
      "Epoch 9/500\n",
      "57818/57818 [==============================] - 4s 74us/sample - loss: 0.3639 - accuracy: 0.8936 - val_loss: 0.4159 - val_accuracy: 0.8730\n",
      "Epoch 10/500\n",
      "57818/57818 [==============================] - 4s 75us/sample - loss: 0.3597 - accuracy: 0.8943 - val_loss: 0.4079 - val_accuracy: 0.8721\n",
      "Epoch 11/500\n",
      "57818/57818 [==============================] - 4s 74us/sample - loss: 0.3570 - accuracy: 0.8941 - val_loss: 0.4092 - val_accuracy: 0.8733\n",
      "Epoch 12/500\n",
      "57818/57818 [==============================] - 4s 75us/sample - loss: 0.3514 - accuracy: 0.8949 - val_loss: 0.4133 - val_accuracy: 0.8728\n",
      "Epoch 13/500\n",
      "57818/57818 [==============================] - 4s 75us/sample - loss: 0.3486 - accuracy: 0.8963 - val_loss: 0.4121 - val_accuracy: 0.8711\n",
      "Epoch 14/500\n",
      "57818/57818 [==============================] - 4s 74us/sample - loss: 0.3449 - accuracy: 0.8967 - val_loss: 0.3986 - val_accuracy: 0.8734\n",
      "Epoch 15/500\n",
      "57818/57818 [==============================] - 4s 75us/sample - loss: 0.3408 - accuracy: 0.8966 - val_loss: 0.3946 - val_accuracy: 0.8742\n",
      "Epoch 16/500\n",
      "57818/57818 [==============================] - 4s 73us/sample - loss: 0.3404 - accuracy: 0.8978 - val_loss: 0.4043 - val_accuracy: 0.8741\n",
      "Epoch 17/500\n",
      "57818/57818 [==============================] - 4s 74us/sample - loss: 0.3377 - accuracy: 0.8976 - val_loss: 0.4032 - val_accuracy: 0.8724\n",
      "Epoch 18/500\n",
      "57818/57818 [==============================] - 4s 75us/sample - loss: 0.3342 - accuracy: 0.8991 - val_loss: 0.3985 - val_accuracy: 0.8738\n",
      "Epoch 19/500\n",
      "57818/57818 [==============================] - 4s 74us/sample - loss: 0.3334 - accuracy: 0.8989 - val_loss: 0.4033 - val_accuracy: 0.8736\n",
      "Epoch 20/500\n",
      "57818/57818 [==============================] - 4s 75us/sample - loss: 0.3325 - accuracy: 0.8992 - val_loss: 0.3965 - val_accuracy: 0.8734\n",
      "Epoch 21/500\n",
      "57818/57818 [==============================] - 4s 76us/sample - loss: 0.3322 - accuracy: 0.8993 - val_loss: 0.4027 - val_accuracy: 0.8698\n",
      "Epoch 22/500\n",
      "57818/57818 [==============================] - 4s 74us/sample - loss: 0.3308 - accuracy: 0.8996 - val_loss: 0.3981 - val_accuracy: 0.8739\n",
      "Epoch 23/500\n",
      "57818/57818 [==============================] - 4s 73us/sample - loss: 0.3292 - accuracy: 0.9002 - val_loss: 0.3984 - val_accuracy: 0.8720\n",
      "Epoch 24/500\n",
      "57818/57818 [==============================] - 4s 73us/sample - loss: 0.3283 - accuracy: 0.9013 - val_loss: 0.4023 - val_accuracy: 0.8728\n",
      "Epoch 25/500\n",
      "57818/57818 [==============================] - 4s 73us/sample - loss: 0.3281 - accuracy: 0.9003 - val_loss: 0.4165 - val_accuracy: 0.8696\n"
     ]
    }
   ],
   "source": [
    "model.compile(loss='categorical_crossentropy', optimizer=optimizer, metrics=['accuracy'])\n",
    "\n",
    "history=model.fit(train_X, train_Y, epochs=train_epochs,\n",
    "                  callbacks=[early_stopping], batch_size=batch_size,\n",
    "                  validation_data=(validation_X, validation_Y), shuffle=True)"
   ]
  },
  {
   "cell_type": "markdown",
   "id": "CbSIbDn4ziAv",
   "metadata": {
    "id": "CbSIbDn4ziAv"
   },
   "source": [
    "# Let's See How the Model Performs"
   ]
  },
  {
   "cell_type": "code",
   "execution_count": 24,
   "id": "SHgy87we-EPT",
   "metadata": {
    "colab": {
     "base_uri": "https://localhost:8080/",
     "height": 265
    },
    "id": "SHgy87we-EPT",
    "outputId": "890d8c8a-9468-4940-b6bd-df1c79779a9f"
   },
   "outputs": [
    {
     "data": {
      "image/png": "[encoded data removed]",
      "text/plain": [
       "<Figure size 432x288 with 1 Axes>"
      ]
     },
     "metadata": {
      "needs_background": "light"
     },
     "output_type": "display_data"
    }
   ],
   "source": [
    "plt.plot(history.history['accuracy'], label='train')\n",
    "plt.plot(history.history['val_accuracy'], label='validation')\n",
    "plt.legend()\n",
    "plt.show()"
   ]
  },
  {
   "cell_type": "code",
   "execution_count": 25,
   "id": "international-finish",
   "metadata": {
    "colab": {
     "base_uri": "https://localhost:8080/",
     "height": 265
    },
    "id": "international-finish",
    "outputId": "e2a9cdbd-e949-48d9-baa7-c95e71b1461d"
   },
   "outputs": [
    {
     "data": {
      "image/png": "[encoded data removed]",
      "text/plain": [
       "<Figure size 432x288 with 1 Axes>"
      ]
     },
     "metadata": {
      "needs_background": "light"
     },
     "output_type": "display_data"
    }
   ],
   "source": [
    "plt.plot(history.history['loss'], label='train')\n",
    "plt.plot(history.history['val_loss'], label='validation')\n",
    "plt.legend()\n",
    "plt.show()"
   ]
  },
  {
   "cell_type": "markdown",
   "id": "CUnjTJMAtclp",
   "metadata": {
    "id": "CUnjTJMAtclp"
   },
   "source": [
    "# Let's Do Some Predictions on the Test Dataset"
   ]
  },
  {
   "cell_type": "code",
   "execution_count": 26,
   "id": "embedded-pollution",
   "metadata": {
    "scrolled": true
   },
   "outputs": [
    {
     "name": "stdout",
     "output_type": "stream",
     "text": [
      "12989/12989 [==============================] - 1s 82us/sample - loss: 0.3624 - accuracy: 0.8915\n"
     ]
    },
    {
     "data": {
      "text/plain": [
       "[0.3623790548980553, 0.8915236]"
      ]
     },
     "execution_count": 26,
     "metadata": {},
     "output_type": "execute_result"
    }
   ],
   "source": [
    "model.evaluate(test_X,test_Y)"
   ]
  },
  {
   "cell_type": "markdown",
   "id": "associate-space",
   "metadata": {},
   "source": [
    "# Plot the Confusion Matrix"
   ]
  },
  {
   "cell_type": "code",
   "execution_count": 27,
   "id": "fcrr-UY6bn8W",
   "metadata": {
    "colab": {
     "base_uri": "https://localhost:8080/"
    },
    "id": "fcrr-UY6bn8W",
    "outputId": "773a6c3c-6500-47ca-87d2-477a3508fa28"
   },
   "outputs": [
    {
     "name": "stdout",
     "output_type": "stream",
     "text": [
      "(12989, 3) (12989, 3)\n"
     ]
    }
   ],
   "source": [
    "predicted_emotions = model.predict(test_X, batch_size=128)\n",
    "print(test_Y.shape,predicted_emotions.shape)"
   ]
  },
  {
   "cell_type": "code",
   "execution_count": 28,
   "id": "yellow-qatar",
   "metadata": {},
   "outputs": [
    {
     "data": {
      "text/plain": [
       "(12989, 512, 3)"
      ]
     },
     "execution_count": 28,
     "metadata": {},
     "output_type": "execute_result"
    }
   ],
   "source": [
    "test_X.shape"
   ]
  },
  {
   "cell_type": "code",
   "execution_count": 29,
   "id": "further-ecology",
   "metadata": {},
   "outputs": [
    {
     "name": "stdout",
     "output_type": "stream",
     "text": [
      "0.8915235968896759\n"
     ]
    }
   ],
   "source": [
    "# labels = ['No Emotion','Happy', 'Sad', 'Angry']\n",
    "labels = ['Happy', 'Sad', 'Angry']\n",
    "true_counter = 0\n",
    "predicted_labels = []\n",
    "test_labels = []\n",
    "for i in range(len(predicted_emotions)):\n",
    "    predicted_labels.append(labels[np.argmax(predicted_emotions[i])])\n",
    "    test_labels.append(labels[np.argmax(test_Y[i])])\n",
    "    if labels[np.argmax(predicted_emotions[i])] == labels[np.argmax(test_Y[i])]:\n",
    "        true_counter = true_counter + 1\n",
    "print(true_counter/len(test_Y))"
   ]
  },
  {
   "cell_type": "code",
   "execution_count": 30,
   "id": "heard-finding",
   "metadata": {},
   "outputs": [
    {
     "data": {
      "text/plain": [
       "(<Figure size 576x576 with 1 Axes>,\n",
       " <AxesSubplot:xlabel='predicted label', ylabel='true label'>)"
      ]
     },
     "execution_count": 30,
     "metadata": {},
     "output_type": "execute_result"
    },
    {
     "data": {
      "image/png": "[encoded data removed]",
      "text/plain": [
       "<Figure size 576x576 with 1 Axes>"
      ]
     },
     "metadata": {
      "needs_background": "light"
     },
     "output_type": "display_data"
    }
   ],
   "source": [
    "con_matrix = confusion_matrix(test_labels, predicted_labels)\n",
    "plot_confusion_matrix(conf_mat=con_matrix, class_names=labels, show_normed=True, figsize=(8,8))"
   ]
  },
  {
   "cell_type": "markdown",
   "id": "tcTQfJ_rt4QD",
   "metadata": {
    "id": "tcTQfJ_rt4QD"
   },
   "source": [
    "# Export to a .h5 file"
   ]
  },
  {
   "cell_type": "code",
   "execution_count": 173,
   "id": "2CXU0f-9t1Uj",
   "metadata": {
    "colab": {
     "base_uri": "https://localhost:8080/"
    },
    "id": "2CXU0f-9t1Uj",
    "outputId": "55a98d7f-3570-4694-a632-e3c0a7a5cd1b"
   },
   "outputs": [
    {
     "name": "stdout",
     "output_type": "stream",
     "text": [
      "./1619501904.h5\n"
     ]
    }
   ],
   "source": [
    "t = time.time()\n",
    "export_path_keras = \"./{}.h5\".format(int(t))\n",
    "print(export_path_keras)\n",
    "model.save(export_path_keras)"
   ]
  },
  {
   "cell_type": "markdown",
   "id": "RikOLtfDumEC",
   "metadata": {
    "id": "RikOLtfDumEC"
   },
   "source": [
    "# Load the Keras `.h5` Model\n"
   ]
  },
  {
   "cell_type": "code",
   "execution_count": 29,
   "id": "Plrv2b31um_E",
   "metadata": {
    "colab": {
     "base_uri": "https://localhost:8080/"
    },
    "id": "Plrv2b31um_E",
    "outputId": "445ed3ba-2c9a-4d63-adc3-e261ed2e0978"
   },
   "outputs": [
    {
     "name": "stdout",
     "output_type": "stream",
     "text": [
      "Model: \"sequential\"\n",
      "_________________________________________________________________\n",
      "Layer (type)                 Output Shape              Param #   \n",
      "=================================================================\n",
      "conv1d (Conv1D)              (None, 1, 32)             49184     \n",
      "_________________________________________________________________\n",
      "dropout (Dropout)            (None, 1, 32)             0         \n",
      "_________________________________________________________________\n",
      "lstm (LSTM)                  (None, 128)               82432     \n",
      "_________________________________________________________________\n",
      "dropout_1 (Dropout)          (None, 128)               0         \n",
      "_________________________________________________________________\n",
      "dense (Dense)                (None, 128)               16512     \n",
      "_________________________________________________________________\n",
      "dropout_2 (Dropout)          (None, 128)               0         \n",
      "_________________________________________________________________\n",
      "dense_1 (Dense)              (None, 3)                 387       \n",
      "=================================================================\n",
      "Total params: 148,515\n",
      "Trainable params: 148,515\n",
      "Non-trainable params: 0\n",
      "_________________________________________________________________\n"
     ]
    }
   ],
   "source": [
    "model = tf.keras.models.load_model('1619496839.h5')\n",
    "\n",
    "model.summary()"
   ]
  },
  {
   "cell_type": "code",
   "execution_count": 174,
   "id": "pHxqwQzPu0bM",
   "metadata": {
    "colab": {
     "base_uri": "https://localhost:8080/"
    },
    "id": "pHxqwQzPu0bM",
    "outputId": "4c4f9e0f-208a-448f-8b6e-cfc3eeca0acb"
   },
   "outputs": [
    {
     "name": "stdout",
     "output_type": "stream",
     "text": [
      "INFO:tensorflow:Assets written to: C:\\Users\\toanv\\EMG\\NEWEMG\\Newdata\\data041721//saved_model\\assets\n"
     ]
    }
   ],
   "source": [
    "export_folder = base+'//saved_model'\n",
    "tf.saved_model.save(model,export_folder)"
   ]
  },
  {
   "cell_type": "markdown",
   "id": "WJl6PnJKuHCC",
   "metadata": {
    "id": "WJl6PnJKuHCC"
   },
   "source": [
    "# The parts below should be done in Google Colab as Jupyter Notebook doesn'y support tflite"
   ]
  },
  {
   "cell_type": "markdown",
   "id": "secret-preview",
   "metadata": {},
   "source": [
    "# Convert the SavedModel to TFLite"
   ]
  },
  {
   "cell_type": "code",
   "execution_count": 176,
   "id": "tnPI9_couJm4",
   "metadata": {
    "colab": {
     "base_uri": "https://localhost:8080/"
    },
    "id": "tnPI9_couJm4",
    "outputId": "32eeb633-1d5f-4f67-83b0-e8d337d3b336"
   },
   "outputs": [
    {
     "ename": "ConverterError",
     "evalue": "See console for info.\n2021-04-27 00:46:25.969618: I tensorflow/stream_executor/platform/default/dso_loader.cc:44] Successfully opened dynamic library cudart64_101.dll\n2021-04-27 00:46:28.680518: I tensorflow/core/platform/cpu_feature_guard.cc:142] Your CPU supports instructions that this TensorFlow binary was not compiled to use: AVX AVX2\n2021-04-27 00:46:28.682216: I tensorflow/stream_executor/platform/default/dso_loader.cc:44] Successfully opened dynamic library nvcuda.dll\n2021-04-27 00:46:28.701874: I tensorflow/core/common_runtime/gpu/gpu_device.cc:1555] Found device 0 with properties: \npciBusID: 0000:01:00.0 name: GeForce GTX 1060 3GB computeCapability: 6.1\ncoreClock: 1.7085GHz coreCount: 9 deviceMemorySize: 3.00GiB deviceMemoryBandwidth: 178.99GiB/s\n2021-04-27 00:46:28.701897: I tensorflow/stream_executor/platform/default/dso_loader.cc:44] Successfully opened dynamic library cudart64_101.dll\n2021-04-27 00:46:28.705672: I tensorflow/stream_executor/platform/default/dso_loader.cc:44] Successfully opened dynamic library cublas64_10.dll\n2021-04-27 00:46:28.708722: I tensorflow/stream_executor/platform/default/dso_loader.cc:44] Successfully opened dynamic library cufft64_10.dll\n2021-04-27 00:46:28.709909: I tensorflow/stream_executor/platform/default/dso_loader.cc:44] Successfully opened dynamic library curand64_10.dll\n2021-04-27 00:46:28.713180: I tensorflow/stream_executor/platform/default/dso_loader.cc:44] Successfully opened dynamic library cusolver64_10.dll\n2021-04-27 00:46:28.715433: I tensorflow/stream_executor/platform/default/dso_loader.cc:44] Successfully opened dynamic library cusparse64_10.dll\n2021-04-27 00:46:28.721679: I tensorflow/stream_executor/platform/default/dso_loader.cc:44] Successfully opened dynamic library cudnn64_7.dll\n2021-04-27 00:46:28.721795: I tensorflow/core/common_runtime/gpu/gpu_device.cc:1697] Adding visible gpu devices: 0\n2021-04-27 00:46:29.223644: I tensorflow/core/common_runtime/gpu/gpu_device.cc:1096] Device interconnect StreamExecutor with strength 1 edge matrix:\n2021-04-27 00:46:29.223663: I tensorflow/core/common_runtime/gpu/gpu_device.cc:1102]      0 \n2021-04-27 00:46:29.223669: I tensorflow/core/common_runtime/gpu/gpu_device.cc:1115] 0:   N \n2021-04-27 00:46:29.223819: I tensorflow/core/common_runtime/gpu/gpu_device.cc:1241] Created TensorFlow device (/job:localhost/replica:0/task:0/device:GPU:0 with 1941 MB memory) -> physical GPU (device: 0, name: GeForce GTX 1060 3GB, pci bus id: 0000:01:00.0, compute capability: 6.1)\n2021-04-27 00:46:29.234211: I tensorflow/lite/toco/import_tensorflow.cc:659] Converting unsupported operation: TensorListFromTensor\n2021-04-27 00:46:29.234243: I tensorflow/lite/toco/import_tensorflow.cc:193] Unsupported data type in placeholder op: 21\n2021-04-27 00:46:29.234272: I tensorflow/lite/toco/import_tensorflow.cc:659] Converting unsupported operation: TensorListReserve\n2021-04-27 00:46:29.234282: I tensorflow/lite/toco/import_tensorflow.cc:193] Unsupported data type in placeholder op: 21\n2021-04-27 00:46:29.234301: I tensorflow/lite/toco/import_tensorflow.cc:659] Converting unsupported operation: While\n2021-04-27 00:46:29.234317: I tensorflow/lite/toco/import_tensorflow.cc:193] Unsupported data type in placeholder op: 21\n2021-04-27 00:46:29.234323: I tensorflow/lite/toco/import_tensorflow.cc:193] Unsupported data type in placeholder op: 21\n2021-04-27 00:46:29.234333: I tensorflow/lite/toco/import_tensorflow.cc:659] Converting unsupported operation: TensorListStack\n2021-04-27 00:46:29.235052: I tensorflow/lite/toco/graph_transformations/graph_transformations.cc:39] Before Removing unused ops: 38 operators, 79 arrays (0 quantized)\n2021-04-27 00:46:29.235561: I tensorflow/lite/toco/graph_transformations/graph_transformations.cc:39] Before general graph transformations: 38 operators, 79 arrays (0 quantized)\n2021-04-27 00:46:29.236405: I tensorflow/lite/toco/graph_transformations/graph_transformations.cc:39] After general graph transformations pass 1: 22 operators, 65 arrays (0 quantized)\n2021-04-27 00:46:29.236829: I tensorflow/lite/toco/graph_transformations/graph_transformations.cc:39] After general graph transformations pass 2: 20 operators, 62 arrays (0 quantized)\n2021-04-27 00:46:29.237223: I tensorflow/lite/toco/graph_transformations/graph_transformations.cc:39] After general graph transformations pass 3: 11 operators, 45 arrays (0 quantized)\n2021-04-27 00:46:29.237470: I tensorflow/lite/toco/graph_transformations/graph_transformations.cc:39] Before Group bidirectional sequence lstm/rnn: 11 operators, 45 arrays (0 quantized)\n2021-04-27 00:46:29.237648: I tensorflow/lite/toco/graph_transformations/graph_transformations.cc:39] Before dequantization graph transformations: 11 operators, 45 arrays (0 quantized)\n2021-04-27 00:46:29.237833: I tensorflow/lite/toco/graph_transformations/graph_transformations.cc:39] Before Identify nearest upsample.: 11 operators, 45 arrays (0 quantized)\n2021-04-27 00:46:29.238143: I tensorflow/lite/toco/allocate_transient_arrays.cc:345] Total transient array allocated size: 6272 bytes, theoretical optimal value: 6272 bytes.\n2021-04-27 00:46:29.238246: I tensorflow/lite/toco/toco_tooling.cc:471] Number of parameters: 148663\n2021-04-27 00:46:29.238587: E tensorflow/lite/toco/toco_tooling.cc:498] We are continually in the process of adding support to TensorFlow Lite for more ops. It would be helpful if you could inform us of how this conversion went by opening a github issue at https://github.com/tensorflow/tensorflow/issues/new?template=40-tflite-op-request.md\n and pasting the following:\n\nSome of the operators in the model are not supported by the standard TensorFlow Lite runtime. If those are native TensorFlow operators, you might be able to use the extended runtime by passing --enable_select_tf_ops, or by setting target_ops=TFLITE_BUILTINS,SELECT_TF_OPS when calling tf.lite.TFLiteConverter(). Otherwise, if you have a custom implementation for them you can disable this error with --allow_custom_ops, or by setting allow_custom_ops=True when calling tf.lite.TFLiteConverter(). Here is a list of builtin operators you are using: CONV_2D, FULLY_CONNECTED, RESHAPE, SOFTMAX, STRIDED_SLICE. Here is a list of operators for which you will need custom implementations: TensorListFromTensor, TensorListReserve, TensorListStack, While.\nTraceback (most recent call last):\r\n  File \"C:\\Users\\toanv\\anaconda3\\envs\\tensorflow\\Scripts\\toco_from_protos-script.py\", line 10, in <module>\r\n    sys.exit(main())\r\n  File \"C:\\Users\\toanv\\anaconda3\\envs\\tensorflow\\lib\\site-packages\\tensorflow_core\\lite\\toco\\python\\toco_from_protos.py\", line 93, in main\r\n    app.run(main=execute, argv=[sys.argv[0]] + unparsed)\r\n  File \"C:\\Users\\toanv\\anaconda3\\envs\\tensorflow\\lib\\site-packages\\tensorflow_core\\python\\platform\\app.py\", line 40, in run\r\n    _run(main=main, argv=argv, flags_parser=_parse_flags_tolerate_undef)\r\n  File \"C:\\Users\\toanv\\anaconda3\\envs\\tensorflow\\lib\\site-packages\\absl\\app.py\", line 300, in run\r\n    _run_main(main, args)\r\n  File \"C:\\Users\\toanv\\anaconda3\\envs\\tensorflow\\lib\\site-packages\\absl\\app.py\", line 251, in _run_main\r\n    sys.exit(main(argv))\r\n  File \"C:\\Users\\toanv\\anaconda3\\envs\\tensorflow\\lib\\site-packages\\tensorflow_core\\lite\\toco\\python\\toco_from_protos.py\", line 56, in execute\r\n    enable_mlir_converter)\r\nException: We are continually in the process of adding support to TensorFlow Lite for more ops. It would be helpful if you could inform us of how this conversion went by opening a github issue at https://github.com/tensorflow/tensorflow/issues/new?template=40-tflite-op-request.md\r\n and pasting the following:\r\n\r\nSome of the operators in the model are not supported by the standard TensorFlow Lite runtime. If those are native TensorFlow operators, you might be able to use the extended runtime by passing --enable_select_tf_ops, or by setting target_ops=TFLITE_BUILTINS,SELECT_TF_OPS when calling tf.lite.TFLiteConverter(). Otherwise, if you have a custom implementation for them you can disable this error with --allow_custom_ops, or by setting allow_custom_ops=True when calling tf.lite.TFLiteConverter(). Here is a list of builtin operators you are using: CONV_2D, FULLY_CONNECTED, RESHAPE, SOFTMAX, STRIDED_SLICE. Here is a list of operators for which you will need custom implementations: TensorListFromTensor, TensorListReserve, TensorListStack, While.\r\n\n\n",
     "output_type": "error",
     "traceback": [
      "\u001b[1;31m---------------------------------------------------------------------------\u001b[0m",
      "\u001b[1;31mConverterError\u001b[0m                            Traceback (most recent call last)",
      "\u001b[1;32m<ipython-input-176-4c322afc84b2>\u001b[0m in \u001b[0;36m<module>\u001b[1;34m\u001b[0m\n\u001b[0;32m      1\u001b[0m \u001b[1;31m# Convert the model.\u001b[0m\u001b[1;33m\u001b[0m\u001b[1;33m\u001b[0m\u001b[1;33m\u001b[0m\u001b[0m\n\u001b[0;32m      2\u001b[0m \u001b[0mconverter\u001b[0m \u001b[1;33m=\u001b[0m \u001b[0mtf\u001b[0m\u001b[1;33m.\u001b[0m\u001b[0mlite\u001b[0m\u001b[1;33m.\u001b[0m\u001b[0mTFLiteConverter\u001b[0m\u001b[1;33m.\u001b[0m\u001b[0mfrom_saved_model\u001b[0m\u001b[1;33m(\u001b[0m\u001b[0mexport_folder\u001b[0m\u001b[1;33m)\u001b[0m\u001b[1;33m\u001b[0m\u001b[1;33m\u001b[0m\u001b[0m\n\u001b[1;32m----> 3\u001b[1;33m \u001b[0mtflite_model\u001b[0m \u001b[1;33m=\u001b[0m \u001b[0mconverter\u001b[0m\u001b[1;33m.\u001b[0m\u001b[0mconvert\u001b[0m\u001b[1;33m(\u001b[0m\u001b[1;33m)\u001b[0m\u001b[1;33m\u001b[0m\u001b[1;33m\u001b[0m\u001b[0m\n\u001b[0m\u001b[0;32m      4\u001b[0m \u001b[1;33m\u001b[0m\u001b[0m\n\u001b[0;32m      5\u001b[0m \u001b[0mtflite_model_file\u001b[0m \u001b[1;33m=\u001b[0m \u001b[0mpathlib\u001b[0m\u001b[1;33m.\u001b[0m\u001b[0mPath\u001b[0m\u001b[1;33m(\u001b[0m\u001b[0mbase\u001b[0m\u001b[1;33m+\u001b[0m\u001b[1;34m'//model.tflite'\u001b[0m\u001b[1;33m)\u001b[0m\u001b[1;33m\u001b[0m\u001b[1;33m\u001b[0m\u001b[0m\n",
      "\u001b[1;32m~\\anaconda3\\envs\\tensorflow\\lib\\site-packages\\tensorflow_core\\lite\\python\\lite.py\u001b[0m in \u001b[0;36mconvert\u001b[1;34m(self)\u001b[0m\n\u001b[0;32m    462\u001b[0m         \u001b[0minput_tensors\u001b[0m\u001b[1;33m=\u001b[0m\u001b[0minput_tensors\u001b[0m\u001b[1;33m,\u001b[0m\u001b[1;33m\u001b[0m\u001b[1;33m\u001b[0m\u001b[0m\n\u001b[0;32m    463\u001b[0m         \u001b[0moutput_tensors\u001b[0m\u001b[1;33m=\u001b[0m\u001b[0moutput_tensors\u001b[0m\u001b[1;33m,\u001b[0m\u001b[1;33m\u001b[0m\u001b[1;33m\u001b[0m\u001b[0m\n\u001b[1;32m--> 464\u001b[1;33m         **converter_kwargs)\n\u001b[0m\u001b[0;32m    465\u001b[0m \u001b[1;33m\u001b[0m\u001b[0m\n\u001b[0;32m    466\u001b[0m     \u001b[1;32mif\u001b[0m \u001b[0mself\u001b[0m\u001b[1;33m.\u001b[0m\u001b[0m_is_calibration_quantize\u001b[0m\u001b[1;33m(\u001b[0m\u001b[1;33m)\u001b[0m\u001b[1;33m:\u001b[0m\u001b[1;33m\u001b[0m\u001b[1;33m\u001b[0m\u001b[0m\n",
      "\u001b[1;32m~\\anaconda3\\envs\\tensorflow\\lib\\site-packages\\tensorflow_core\\lite\\python\\convert.py\u001b[0m in \u001b[0;36mtoco_convert_impl\u001b[1;34m(input_data, input_tensors, output_tensors, enable_mlir_converter, *args, **kwargs)\u001b[0m\n\u001b[0;32m    455\u001b[0m       \u001b[0minput_data\u001b[0m\u001b[1;33m.\u001b[0m\u001b[0mSerializeToString\u001b[0m\u001b[1;33m(\u001b[0m\u001b[1;33m)\u001b[0m\u001b[1;33m,\u001b[0m\u001b[1;33m\u001b[0m\u001b[1;33m\u001b[0m\u001b[0m\n\u001b[0;32m    456\u001b[0m       \u001b[0mdebug_info_str\u001b[0m\u001b[1;33m=\u001b[0m\u001b[0mdebug_info_str\u001b[0m\u001b[1;33m,\u001b[0m\u001b[1;33m\u001b[0m\u001b[1;33m\u001b[0m\u001b[0m\n\u001b[1;32m--> 457\u001b[1;33m       enable_mlir_converter=enable_mlir_converter)\n\u001b[0m\u001b[0;32m    458\u001b[0m   \u001b[1;32mreturn\u001b[0m \u001b[0mdata\u001b[0m\u001b[1;33m\u001b[0m\u001b[1;33m\u001b[0m\u001b[0m\n\u001b[0;32m    459\u001b[0m \u001b[1;33m\u001b[0m\u001b[0m\n",
      "\u001b[1;32m~\\anaconda3\\envs\\tensorflow\\lib\\site-packages\\tensorflow_core\\lite\\python\\convert.py\u001b[0m in \u001b[0;36mtoco_convert_protos\u001b[1;34m(model_flags_str, toco_flags_str, input_data_str, debug_info_str, enable_mlir_converter)\u001b[0m\n\u001b[0;32m    201\u001b[0m       \u001b[0mstdout\u001b[0m \u001b[1;33m=\u001b[0m \u001b[0m_try_convert_to_unicode\u001b[0m\u001b[1;33m(\u001b[0m\u001b[0mstdout\u001b[0m\u001b[1;33m)\u001b[0m\u001b[1;33m\u001b[0m\u001b[1;33m\u001b[0m\u001b[0m\n\u001b[0;32m    202\u001b[0m       \u001b[0mstderr\u001b[0m \u001b[1;33m=\u001b[0m \u001b[0m_try_convert_to_unicode\u001b[0m\u001b[1;33m(\u001b[0m\u001b[0mstderr\u001b[0m\u001b[1;33m)\u001b[0m\u001b[1;33m\u001b[0m\u001b[1;33m\u001b[0m\u001b[0m\n\u001b[1;32m--> 203\u001b[1;33m       \u001b[1;32mraise\u001b[0m \u001b[0mConverterError\u001b[0m\u001b[1;33m(\u001b[0m\u001b[1;34m\"See console for info.\\n%s\\n%s\\n\"\u001b[0m \u001b[1;33m%\u001b[0m \u001b[1;33m(\u001b[0m\u001b[0mstdout\u001b[0m\u001b[1;33m,\u001b[0m \u001b[0mstderr\u001b[0m\u001b[1;33m)\u001b[0m\u001b[1;33m)\u001b[0m\u001b[1;33m\u001b[0m\u001b[1;33m\u001b[0m\u001b[0m\n\u001b[0m\u001b[0;32m    204\u001b[0m   \u001b[1;32mfinally\u001b[0m\u001b[1;33m:\u001b[0m\u001b[1;33m\u001b[0m\u001b[1;33m\u001b[0m\u001b[0m\n\u001b[0;32m    205\u001b[0m     \u001b[1;31m# Must manually cleanup files.\u001b[0m\u001b[1;33m\u001b[0m\u001b[1;33m\u001b[0m\u001b[1;33m\u001b[0m\u001b[0m\n",
      "\u001b[1;31mConverterError\u001b[0m: See console for info.\n2021-04-27 00:46:25.969618: I tensorflow/stream_executor/platform/default/dso_loader.cc:44] Successfully opened dynamic library cudart64_101.dll\n2021-04-27 00:46:28.680518: I tensorflow/core/platform/cpu_feature_guard.cc:142] Your CPU supports instructions that this TensorFlow binary was not compiled to use: AVX AVX2\n2021-04-27 00:46:28.682216: I tensorflow/stream_executor/platform/default/dso_loader.cc:44] Successfully opened dynamic library nvcuda.dll\n2021-04-27 00:46:28.701874: I tensorflow/core/common_runtime/gpu/gpu_device.cc:1555] Found device 0 with properties: \npciBusID: 0000:01:00.0 name: GeForce GTX 1060 3GB computeCapability: 6.1\ncoreClock: 1.7085GHz coreCount: 9 deviceMemorySize: 3.00GiB deviceMemoryBandwidth: 178.99GiB/s\n2021-04-27 00:46:28.701897: I tensorflow/stream_executor/platform/default/dso_loader.cc:44] Successfully opened dynamic library cudart64_101.dll\n2021-04-27 00:46:28.705672: I tensorflow/stream_executor/platform/default/dso_loader.cc:44] Successfully opened dynamic library cublas64_10.dll\n2021-04-27 00:46:28.708722: I tensorflow/stream_executor/platform/default/dso_loader.cc:44] Successfully opened dynamic library cufft64_10.dll\n2021-04-27 00:46:28.709909: I tensorflow/stream_executor/platform/default/dso_loader.cc:44] Successfully opened dynamic library curand64_10.dll\n2021-04-27 00:46:28.713180: I tensorflow/stream_executor/platform/default/dso_loader.cc:44] Successfully opened dynamic library cusolver64_10.dll\n2021-04-27 00:46:28.715433: I tensorflow/stream_executor/platform/default/dso_loader.cc:44] Successfully opened dynamic library cusparse64_10.dll\n2021-04-27 00:46:28.721679: I tensorflow/stream_executor/platform/default/dso_loader.cc:44] Successfully opened dynamic library cudnn64_7.dll\n2021-04-27 00:46:28.721795: I tensorflow/core/common_runtime/gpu/gpu_device.cc:1697] Adding visible gpu devices: 0\n2021-04-27 00:46:29.223644: I tensorflow/core/common_runtime/gpu/gpu_device.cc:1096] Device interconnect StreamExecutor with strength 1 edge matrix:\n2021-04-27 00:46:29.223663: I tensorflow/core/common_runtime/gpu/gpu_device.cc:1102]      0 \n2021-04-27 00:46:29.223669: I tensorflow/core/common_runtime/gpu/gpu_device.cc:1115] 0:   N \n2021-04-27 00:46:29.223819: I tensorflow/core/common_runtime/gpu/gpu_device.cc:1241] Created TensorFlow device (/job:localhost/replica:0/task:0/device:GPU:0 with 1941 MB memory) -> physical GPU (device: 0, name: GeForce GTX 1060 3GB, pci bus id: 0000:01:00.0, compute capability: 6.1)\n2021-04-27 00:46:29.234211: I tensorflow/lite/toco/import_tensorflow.cc:659] Converting unsupported operation: TensorListFromTensor\n2021-04-27 00:46:29.234243: I tensorflow/lite/toco/import_tensorflow.cc:193] Unsupported data type in placeholder op: 21\n2021-04-27 00:46:29.234272: I tensorflow/lite/toco/import_tensorflow.cc:659] Converting unsupported operation: TensorListReserve\n2021-04-27 00:46:29.234282: I tensorflow/lite/toco/import_tensorflow.cc:193] Unsupported data type in placeholder op: 21\n2021-04-27 00:46:29.234301: I tensorflow/lite/toco/import_tensorflow.cc:659] Converting unsupported operation: While\n2021-04-27 00:46:29.234317: I tensorflow/lite/toco/import_tensorflow.cc:193] Unsupported data type in placeholder op: 21\n2021-04-27 00:46:29.234323: I tensorflow/lite/toco/import_tensorflow.cc:193] Unsupported data type in placeholder op: 21\n2021-04-27 00:46:29.234333: I tensorflow/lite/toco/import_tensorflow.cc:659] Converting unsupported operation: TensorListStack\n2021-04-27 00:46:29.235052: I tensorflow/lite/toco/graph_transformations/graph_transformations.cc:39] Before Removing unused ops: 38 operators, 79 arrays (0 quantized)\n2021-04-27 00:46:29.235561: I tensorflow/lite/toco/graph_transformations/graph_transformations.cc:39] Before general graph transformations: 38 operators, 79 arrays (0 quantized)\n2021-04-27 00:46:29.236405: I tensorflow/lite/toco/graph_transformations/graph_transformations.cc:39] After general graph transformations pass 1: 22 operators, 65 arrays (0 quantized)\n2021-04-27 00:46:29.236829: I tensorflow/lite/toco/graph_transformations/graph_transformations.cc:39] After general graph transformations pass 2: 20 operators, 62 arrays (0 quantized)\n2021-04-27 00:46:29.237223: I tensorflow/lite/toco/graph_transformations/graph_transformations.cc:39] After general graph transformations pass 3: 11 operators, 45 arrays (0 quantized)\n2021-04-27 00:46:29.237470: I tensorflow/lite/toco/graph_transformations/graph_transformations.cc:39] Before Group bidirectional sequence lstm/rnn: 11 operators, 45 arrays (0 quantized)\n2021-04-27 00:46:29.237648: I tensorflow/lite/toco/graph_transformations/graph_transformations.cc:39] Before dequantization graph transformations: 11 operators, 45 arrays (0 quantized)\n2021-04-27 00:46:29.237833: I tensorflow/lite/toco/graph_transformations/graph_transformations.cc:39] Before Identify nearest upsample.: 11 operators, 45 arrays (0 quantized)\n2021-04-27 00:46:29.238143: I tensorflow/lite/toco/allocate_transient_arrays.cc:345] Total transient array allocated size: 6272 bytes, theoretical optimal value: 6272 bytes.\n2021-04-27 00:46:29.238246: I tensorflow/lite/toco/toco_tooling.cc:471] Number of parameters: 148663\n2021-04-27 00:46:29.238587: E tensorflow/lite/toco/toco_tooling.cc:498] We are continually in the process of adding support to TensorFlow Lite for more ops. It would be helpful if you could inform us of how this conversion went by opening a github issue at https://github.com/tensorflow/tensorflow/issues/new?template=40-tflite-op-request.md\n and pasting the following:\n\nSome of the operators in the model are not supported by the standard TensorFlow Lite runtime. If those are native TensorFlow operators, you might be able to use the extended runtime by passing --enable_select_tf_ops, or by setting target_ops=TFLITE_BUILTINS,SELECT_TF_OPS when calling tf.lite.TFLiteConverter(). Otherwise, if you have a custom implementation for them you can disable this error with --allow_custom_ops, or by setting allow_custom_ops=True when calling tf.lite.TFLiteConverter(). Here is a list of builtin operators you are using: CONV_2D, FULLY_CONNECTED, RESHAPE, SOFTMAX, STRIDED_SLICE. Here is a list of operators for which you will need custom implementations: TensorListFromTensor, TensorListReserve, TensorListStack, While.\nTraceback (most recent call last):\r\n  File \"C:\\Users\\toanv\\anaconda3\\envs\\tensorflow\\Scripts\\toco_from_protos-script.py\", line 10, in <module>\r\n    sys.exit(main())\r\n  File \"C:\\Users\\toanv\\anaconda3\\envs\\tensorflow\\lib\\site-packages\\tensorflow_core\\lite\\toco\\python\\toco_from_protos.py\", line 93, in main\r\n    app.run(main=execute, argv=[sys.argv[0]] + unparsed)\r\n  File \"C:\\Users\\toanv\\anaconda3\\envs\\tensorflow\\lib\\site-packages\\tensorflow_core\\python\\platform\\app.py\", line 40, in run\r\n    _run(main=main, argv=argv, flags_parser=_parse_flags_tolerate_undef)\r\n  File \"C:\\Users\\toanv\\anaconda3\\envs\\tensorflow\\lib\\site-packages\\absl\\app.py\", line 300, in run\r\n    _run_main(main, args)\r\n  File \"C:\\Users\\toanv\\anaconda3\\envs\\tensorflow\\lib\\site-packages\\absl\\app.py\", line 251, in _run_main\r\n    sys.exit(main(argv))\r\n  File \"C:\\Users\\toanv\\anaconda3\\envs\\tensorflow\\lib\\site-packages\\tensorflow_core\\lite\\toco\\python\\toco_from_protos.py\", line 56, in execute\r\n    enable_mlir_converter)\r\nException: We are continually in the process of adding support to TensorFlow Lite for more ops. It would be helpful if you could inform us of how this conversion went by opening a github issue at https://github.com/tensorflow/tensorflow/issues/new?template=40-tflite-op-request.md\r\n and pasting the following:\r\n\r\nSome of the operators in the model are not supported by the standard TensorFlow Lite runtime. If those are native TensorFlow operators, you might be able to use the extended runtime by passing --enable_select_tf_ops, or by setting target_ops=TFLITE_BUILTINS,SELECT_TF_OPS when calling tf.lite.TFLiteConverter(). Otherwise, if you have a custom implementation for them you can disable this error with --allow_custom_ops, or by setting allow_custom_ops=True when calling tf.lite.TFLiteConverter(). Here is a list of builtin operators you are using: CONV_2D, FULLY_CONNECTED, RESHAPE, SOFTMAX, STRIDED_SLICE. Here is a list of operators for which you will need custom implementations: TensorListFromTensor, TensorListReserve, TensorListStack, While.\r\n\n\n"
     ]
    }
   ],
   "source": [
    "# Convert the model.\n",
    "converter = tf.lite.TFLiteConverter.from_saved_model(export_folder)\n",
    "tflite_model = converter.convert()\n",
    "\n",
    "tflite_model_file = pathlib.Path(base+'//model.tflite')\n",
    "tflite_model_file.write_bytes(tflite_model)"
   ]
  },
  {
   "cell_type": "markdown",
   "id": "xfLWGmD_2epW",
   "metadata": {
    "id": "xfLWGmD_2epW"
   },
   "source": [
    "# Download the Tensorflow Lite Model to Local Disk"
   ]
  },
  {
   "cell_type": "code",
   "execution_count": null,
   "id": "1HU-FN_508OW",
   "metadata": {
    "colab": {
     "base_uri": "https://localhost:8080/",
     "height": 17
    },
    "id": "1HU-FN_508OW",
    "outputId": "789730e3-cdf6-4a3a-e16e-e0542d5d7078"
   },
   "outputs": [
    {
     "data": {
      "application/javascript": [
       "\n",
       "    async function download(id, filename, size) {\n",
       "      if (!google.colab.kernel.accessAllowed) {\n",
       "        return;\n",
       "      }\n",
       "      const div = document.createElement('div');\n",
       "      const label = document.createElement('label');\n",
       "      label.textContent = `Downloading \"${filename}\": `;\n",
       "      div.appendChild(label);\n",
       "      const progress = document.createElement('progress');\n",
       "      progress.max = size;\n",
       "      div.appendChild(progress);\n",
       "      document.body.appendChild(div);\n",
       "\n",
       "      const buffers = [];\n",
       "      let downloaded = 0;\n",
       "\n",
       "      const channel = await google.colab.kernel.comms.open(id);\n",
       "      // Send a message to notify the kernel that we're ready.\n",
       "      channel.send({})\n",
       "\n",
       "      for await (const message of channel.messages) {\n",
       "        // Send a message to notify the kernel that we're ready.\n",
       "        channel.send({})\n",
       "        if (message.buffers) {\n",
       "          for (const buffer of message.buffers) {\n",
       "            buffers.push(buffer);\n",
       "            downloaded += buffer.byteLength;\n",
       "            progress.value = downloaded;\n",
       "          }\n",
       "        }\n",
       "      }\n",
       "      const blob = new Blob(buffers, {type: 'application/binary'});\n",
       "      const a = document.createElement('a');\n",
       "      a.href = window.URL.createObjectURL(blob);\n",
       "      a.download = filename;\n",
       "      div.appendChild(a);\n",
       "      a.click();\n",
       "      div.remove();\n",
       "    }\n",
       "  "
      ],
      "text/plain": [
       "<IPython.core.display.Javascript object>"
      ]
     },
     "metadata": {
      "tags": []
     },
     "output_type": "display_data"
    },
    {
     "data": {
      "application/javascript": [
       "download(\"download_013f8d61-b7ac-4a87-981d-a1140619b794\", \"model.tflite\", 219756)"
      ],
      "text/plain": [
       "<IPython.core.display.Javascript object>"
      ]
     },
     "metadata": {
      "tags": []
     },
     "output_type": "display_data"
    },
    {
     "data": {
      "application/javascript": [
       "\n",
       "    async function download(id, filename, size) {\n",
       "      if (!google.colab.kernel.accessAllowed) {\n",
       "        return;\n",
       "      }\n",
       "      const div = document.createElement('div');\n",
       "      const label = document.createElement('label');\n",
       "      label.textContent = `Downloading \"${filename}\": `;\n",
       "      div.appendChild(label);\n",
       "      const progress = document.createElement('progress');\n",
       "      progress.max = size;\n",
       "      div.appendChild(progress);\n",
       "      document.body.appendChild(div);\n",
       "\n",
       "      const buffers = [];\n",
       "      let downloaded = 0;\n",
       "\n",
       "      const channel = await google.colab.kernel.comms.open(id);\n",
       "      // Send a message to notify the kernel that we're ready.\n",
       "      channel.send({})\n",
       "\n",
       "      for await (const message of channel.messages) {\n",
       "        // Send a message to notify the kernel that we're ready.\n",
       "        channel.send({})\n",
       "        if (message.buffers) {\n",
       "          for (const buffer of message.buffers) {\n",
       "            buffers.push(buffer);\n",
       "            downloaded += buffer.byteLength;\n",
       "            progress.value = downloaded;\n",
       "          }\n",
       "        }\n",
       "      }\n",
       "      const blob = new Blob(buffers, {type: 'application/binary'});\n",
       "      const a = document.createElement('a');\n",
       "      a.href = window.URL.createObjectURL(blob);\n",
       "      a.download = filename;\n",
       "      div.appendChild(a);\n",
       "      a.click();\n",
       "      div.remove();\n",
       "    }\n",
       "  "
      ],
      "text/plain": [
       "<IPython.core.display.Javascript object>"
      ]
     },
     "metadata": {
      "tags": []
     },
     "output_type": "display_data"
    },
    {
     "data": {
      "application/javascript": [
       "download(\"download_494dae62-e219-4c09-8c2f-49dfc89f3a40\", \"labels.txt\", 15)"
      ],
      "text/plain": [
       "<IPython.core.display.Javascript object>"
      ]
     },
     "metadata": {
      "tags": []
     },
     "output_type": "display_data"
    }
   ],
   "source": [
    "with open('labels.txt', 'w') as f:\n",
    "  f.write('\\n'.join(labels))\n",
    "\n",
    "try:\n",
    "  from google.colab import files\n",
    "  files.download('model.tflite')\n",
    "  files.download('labels.txt')\n",
    "except:\n",
    "  pass"
   ]
  },
  {
   "cell_type": "code",
   "execution_count": null,
   "id": "fFxcGn5d1NBL",
   "metadata": {
    "id": "fFxcGn5d1NBL"
   },
   "outputs": [],
   "source": []
  }
 ],
 "metadata": {
  "accelerator": "GPU",
  "colab": {
   "collapsed_sections": [],
   "name": "EMGEmotionV2.ipynb",
   "provenance": [],
   "toc_visible": true
  },
  "kernelspec": {
   "display_name": "Python 3.7 (tensorflow)",
   "language": "python",
   "name": "tensorflow"
  },
  "language_info": {
   "codemirror_mode": {
    "name": "ipython",
    "version": 3
   },
   "file_extension": ".py",
   "mimetype": "text/x-python",
   "name": "python",
   "nbconvert_exporter": "python",
   "pygments_lexer": "ipython3",
   "version": "3.7.9"
  }
 },
 "nbformat": 4,
 "nbformat_minor": 5
}
